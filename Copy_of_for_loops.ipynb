{
  "nbformat": 4,
  "nbformat_minor": 0,
  "metadata": {
    "colab": {
      "provenance": []
    },
    "kernelspec": {
      "name": "python3",
      "display_name": "Python 3"
    },
    "language_info": {
      "name": "python"
    }
  },
  "cells": [
    {
      "cell_type": "markdown",
      "source": [
        "### **Introduction to `for` Loops**\n",
        "\n",
        "In programming, a `for` loop provides a clean and concise way to iterate over a sequence of items. It's one of the most commonly used loops due to its simplicity and versatility in handling structured data types.\n",
        "\n",
        "---\n",
        "\n",
        "### **Iterating Over Ranges**\n",
        "\n",
        "The `range()` function generates a sequence of numbers, which can be used in a `for` loop to repeat an action a specific number of times.\n",
        "\n",
        "**Basic Syntax:**\n",
        "```python\n",
        "for variable in range(start, stop, step):\n",
        "    # body of the loop\n",
        "```\n",
        "\n",
        "- `start`: The beginning value (optional, default is 0).\n",
        "- `stop`: The end value (exclusive).\n",
        "- `step`: The increment/decrement value (optional, default is 1).\n",
        "\n",
        "**Example 1:** Counting from 0 to 4\n",
        "```python\n",
        "for i in range(5):\n",
        "    print(i)\n",
        "```\n",
        "\n",
        "**Example 2:** Counting from 2 to 8 in steps of 2\n",
        "```python\n",
        "for i in range(2, 9, 2):\n",
        "    print(i)\n",
        "```\n",
        "\n",
        "---\n",
        "\n",
        "### **Iterating Over Lists**\n",
        "\n",
        "A `for` loop can directly iterate over items in a list without needing to reference indices.\n",
        "\n",
        "**Basic Syntax:**\n",
        "```python\n",
        "for item in list_name:\n",
        "    # body of the loop\n",
        "```\n",
        "\n",
        "**Example:** Printing all items in a list\n",
        "```python\n",
        "fruits = [\"apple\", \"banana\", \"cherry\"]\n",
        "for fruit in fruits:\n",
        "    print(fruit)\n",
        "```\n",
        "\n",
        "**Note:** The `for` loop can also iterate over other iterable data types like tuples, sets, strings, and dictionaries.\n",
        "\n",
        "---\n",
        "\n"
      ],
      "metadata": {
        "id": "jPs46T6tIdCB"
      }
    },
    {
      "cell_type": "code",
      "source": [
        "#You can play around with the examples in this cell"
      ],
      "metadata": {
        "id": "vTqc3r88JzoK"
      },
      "execution_count": null,
      "outputs": []
    },
    {
      "cell_type": "markdown",
      "source": [
        "\n",
        "### **Practice Exercises:**\n",
        "\n",
        "1. **Number Doubler:** For numbers 1 through 10, print each number doubled.\n",
        "\n"
      ],
      "metadata": {
        "id": "5X8znl34J3A2"
      }
    },
    {
      "cell_type": "code",
      "source": [
        "#Ex1\n",
        "for i in range (1, 11,1):\n",
        "  print (i * 2)"
      ],
      "metadata": {
        "id": "UwcBDItUJsyv",
        "colab": {
          "base_uri": "https://localhost:8080/"
        },
        "outputId": "3e36e7a3-3e98-49d7-834b-91bd967e273c"
      },
      "execution_count": null,
      "outputs": [
        {
          "output_type": "stream",
          "name": "stdout",
          "text": [
            "2\n",
            "4\n",
            "6\n",
            "8\n",
            "10\n",
            "12\n",
            "14\n",
            "16\n",
            "18\n",
            "20\n"
          ]
        }
      ]
    },
    {
      "cell_type": "markdown",
      "source": [
        "2. **Vowel Finder:** Given a word, iterate over it and print only the vowels.\n"
      ],
      "metadata": {
        "id": "an5RrtO3J617"
      }
    },
    {
      "cell_type": "markdown",
      "source": [],
      "metadata": {
        "id": "_gpwVJpPKUrr"
      }
    },
    {
      "cell_type": "code",
      "source": [
        "#Ex2\n",
        "word = str(input(\"input the word \"))\n",
        "x = len(word)\n",
        "for i in range (1, x,1):\n",
        "    if word[i] == \"a\" or word[i] == \"e\" or word[i] == \"i\" or word[i]== \"o\" or word[i] == \"u\":\n",
        "      print(word[i])"
      ],
      "metadata": {
        "id": "LefNxEbXJ8Zw",
        "colab": {
          "base_uri": "https://localhost:8080/"
        },
        "outputId": "a7e591f8-69ce-4e74-b15c-1a06b1639a7e"
      },
      "execution_count": null,
      "outputs": [
        {
          "output_type": "stream",
          "name": "stdout",
          "text": [
            "input the word aaaaaaaooe\n",
            "a\n",
            "a\n",
            "a\n",
            "a\n",
            "a\n",
            "a\n",
            "o\n",
            "o\n",
            "e\n"
          ]
        }
      ]
    },
    {
      "cell_type": "markdown",
      "source": [
        "3. **List Reverser:** Without using built-in functions, reverse the items in a list.\n"
      ],
      "metadata": {
        "id": "SWs102V4J9u-"
      }
    },
    {
      "cell_type": "code",
      "source": [
        "#Ex3\n",
        "word = str(input(\"word \"))\n",
        "l = len(word) -1\n",
        "for i in range (l,-1,-1):\n",
        "  print(word[i], end =\"\")\n"
      ],
      "metadata": {
        "id": "ev_24-pQJ_eN",
        "colab": {
          "base_uri": "https://localhost:8080/"
        },
        "outputId": "3eaa57f0-8f14-4fd3-eefe-9f4182a30e2d"
      },
      "execution_count": null,
      "outputs": [
        {
          "output_type": "stream",
          "name": "stdout",
          "text": [
            "word word\n",
            "drow"
          ]
        }
      ]
    },
    {
      "cell_type": "markdown",
      "source": [
        "4. **Odd Number Counter:** Given a list of numbers, count how many odd numbers there are.\n"
      ],
      "metadata": {
        "id": "nzzOUhNiKAqP"
      }
    },
    {
      "cell_type": "code",
      "source": [
        "#Ex4\n",
        "number = [35,2,5,6,88,89,77]\n",
        "n = 0\n",
        "for i in number:\n",
        "  if i % 2 != 0:\n",
        "    n = n +1\n",
        "print(\"there are \", n, \"odd numbers\")"
      ],
      "metadata": {
        "id": "VMYhMku7KB8S",
        "colab": {
          "base_uri": "https://localhost:8080/"
        },
        "outputId": "310369c6-0352-43a4-a75c-bacf9e6b4e44"
      },
      "execution_count": null,
      "outputs": [
        {
          "output_type": "stream",
          "name": "stdout",
          "text": [
            "there are  4 odd numbers\n"
          ]
        }
      ]
    },
    {
      "cell_type": "markdown",
      "source": [
        "5. **Grade Assigner:** For a list of scores, assign and print grades (e.g., A, B, C).\n"
      ],
      "metadata": {
        "id": "lMx0qR57KDI4"
      }
    },
    {
      "cell_type": "code",
      "source": [
        "#Ex5\n",
        "score = [87,97,77,67,3,100]\n",
        "l = len(score)\n",
        "for i in range (0,l,1):\n",
        "  if score[i] >= 90:\n",
        "     print(score[i ], end=\"\")\n",
        "     print(\" A\")\n",
        "  if score[i] < 90 and score [i] >= 80:\n",
        "     print(score[i ], end=\"\")\n",
        "     print(\" B\")\n",
        "  if score[i] < 80 and score [i] >= 70:\n",
        "     print(score[i ], end=\"\")\n",
        "     print(\" C\")\n",
        "  if score[i] < 70 and score [i] >= 60:\n",
        "     print(score[i ], end=\"\")\n",
        "     print(\" D\")\n",
        "  if score[i] < 60 and score [i] >= 0:\n",
        "    print(score[i ], end=\"\")\n",
        "    print(\" F\")\n",
        "\n"
      ],
      "metadata": {
        "id": "9UhJ6-F6KFDN",
        "colab": {
          "base_uri": "https://localhost:8080/"
        },
        "outputId": "2132df58-ddd5-4221-b0e6-a226fb17427e"
      },
      "execution_count": 4,
      "outputs": [
        {
          "output_type": "stream",
          "name": "stdout",
          "text": [
            "87 B\n",
            "97 A\n",
            "77 C\n",
            "67 D\n",
            "3 F\n",
            "100 A\n"
          ]
        }
      ]
    },
    {
      "cell_type": "markdown",
      "source": [
        "6. **Word Lengths:** For a list of words, print each word alongside its length.\n"
      ],
      "metadata": {
        "id": "a-5VcK9GKGMi"
      }
    },
    {
      "cell_type": "code",
      "source": [
        "#Ex6\n",
        "words = [\"hello\",\"asjdklasjd\",\"sajdk\",\"sajdiuoiqwe\",\"jas\"]\n",
        "l = len(words) -1\n",
        "for word in words:\n",
        "  print(word, len(word))"
      ],
      "metadata": {
        "id": "WJ2YmGMZKT68",
        "colab": {
          "base_uri": "https://localhost:8080/"
        },
        "outputId": "aabd2a28-5a1d-463a-d1eb-827bac2b0dff"
      },
      "execution_count": null,
      "outputs": [
        {
          "output_type": "stream",
          "name": "stdout",
          "text": [
            "hello 5\n",
            "asjdklasjd 10\n",
            "sajdk 5\n",
            "sajdiuoiqwe 11\n",
            "jas 3\n"
          ]
        }
      ]
    },
    {
      "cell_type": "markdown",
      "source": [
        "7. **Positive Number Finder:** Given a list of numbers, print only the positive ones.\n"
      ],
      "metadata": {
        "id": "G7NqPlM_KflV"
      }
    },
    {
      "cell_type": "code",
      "source": [
        "#Ex7\n",
        "number = [1,-2,3,-4,5,-6,-7,8,9,-10]\n",
        "for i in number:\n",
        "  if i > 0:\n",
        "    print(i)"
      ],
      "metadata": {
        "id": "W2_2S2xBKgsY",
        "colab": {
          "base_uri": "https://localhost:8080/"
        },
        "outputId": "296b26c4-450b-4b6b-89fd-2251c0229ec4"
      },
      "execution_count": null,
      "outputs": [
        {
          "output_type": "stream",
          "name": "stdout",
          "text": [
            "1\n",
            "3\n",
            "5\n",
            "8\n",
            "9\n"
          ]
        }
      ]
    },
    {
      "cell_type": "markdown",
      "source": [
        "8. **Temperature Converter:** Convert a list of temperatures from Celsius to Fahrenheit and print them.\n"
      ],
      "metadata": {
        "id": "Am8UDtkgKhwu"
      }
    },
    {
      "cell_type": "code",
      "source": [
        "#Ex8\n",
        "degree = [23,20,27,32,30,18,16]\n",
        "\n",
        "for i in degree:\n",
        "  f = i * 1.8 + 32\n",
        "  print(\"degree Celsius : \", i, \"degree Fahrenheit : \", f)\n"
      ],
      "metadata": {
        "id": "nXjgFlTeKi3h",
        "colab": {
          "base_uri": "https://localhost:8080/"
        },
        "outputId": "cf208322-997f-4f59-fb25-5d9908272d77"
      },
      "execution_count": null,
      "outputs": [
        {
          "output_type": "stream",
          "name": "stdout",
          "text": [
            "degree Celsius :  23 degree Fahrenheit :  73.4\n",
            "degree Celsius :  20 degree Fahrenheit :  68.0\n",
            "degree Celsius :  27 degree Fahrenheit :  80.6\n",
            "degree Celsius :  32 degree Fahrenheit :  89.6\n",
            "degree Celsius :  30 degree Fahrenheit :  86.0\n",
            "degree Celsius :  18 degree Fahrenheit :  64.4\n",
            "degree Celsius :  16 degree Fahrenheit :  60.8\n"
          ]
        }
      ]
    },
    {
      "cell_type": "markdown",
      "source": [
        "9. **Name Initials:** For a list of full names, print the initials of each name.\n"
      ],
      "metadata": {
        "id": "MhodCC6HKkLh"
      }
    },
    {
      "cell_type": "code",
      "source": [
        "#Ex9\n",
        "names = [\"Allen\",\"Jefferson\",\"Ryan\",\"Green\",\"Eagle\",\"Naruto\"]\n",
        "for i in names:\n",
        "  print(i[0])"
      ],
      "metadata": {
        "id": "HQ5_rY3-Klnc",
        "colab": {
          "base_uri": "https://localhost:8080/"
        },
        "outputId": "c1f0c35d-2482-49cf-b278-c242fdbed869"
      },
      "execution_count": 1,
      "outputs": [
        {
          "output_type": "stream",
          "name": "stdout",
          "text": [
            "A\n",
            "J\n",
            "R\n",
            "G\n",
            "E\n",
            "N\n"
          ]
        }
      ]
    },
    {
      "cell_type": "markdown",
      "source": [
        "10. **Range Sum:** Calculate the sum of numbers from 1 to 100 using a `for` loop."
      ],
      "metadata": {
        "id": "Sbmpt_V3Kpd_"
      }
    },
    {
      "cell_type": "code",
      "source": [
        "#Ex10\n",
        "n = 0\n",
        "for i in range (0,101,1):\n",
        "  n = n +i\n",
        "print(n)\n"
      ],
      "metadata": {
        "id": "EQ1De9pKKrrz",
        "colab": {
          "base_uri": "https://localhost:8080/"
        },
        "outputId": "701eebff-9711-4271-c45a-fb85475b8e77"
      },
      "execution_count": null,
      "outputs": [
        {
          "output_type": "stream",
          "name": "stdout",
          "text": [
            "5050\n"
          ]
        }
      ]
    }
  ]
}