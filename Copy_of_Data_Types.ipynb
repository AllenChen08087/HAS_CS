{
  "cells": [
    {
      "cell_type": "markdown",
      "metadata": {
        "id": "LBu00G47APLR"
      },
      "source": [
        "\n",
        "### **Data Types Introduction**\n",
        "\n",
        "- **What are Data Types?**\n",
        "    - In computer science, a data type is a classification that specifies which type of value a variable can hold. Think of it as a label for the kind of data (e.g., numbers, texts, true/false values) we're dealing with.\n",
        "    - For instance, if we label something as a 'text' type, it means the variable will hold textual information like names, addresses, etc.\n",
        "\n",
        "#### **Why Do We Need Different Data Types?**\n",
        "1. **Efficiency:** Different data types use different amounts of memory. By choosing the right data type, we ensure our programs run efficiently.\n",
        "2. **Precision:** Some tasks require precision. For instance, financial calculations might need decimal values instead of whole numbers.\n",
        "3. **Clarity:** Using the right data type makes the code more readable and understandable.\n",
        "4. **Error Prevention:** Certain operations are only valid for specific data types. Having the right type can prevent errors. For example, you wouldn't want to accidentally add someone's name to their age.\n",
        "\n",
        "---\n",
        "\n",
        "### **Integers and Floats**\n",
        "\n",
        "#### **Definition and Examples of Integers and Floats**\n",
        "- **Integers:**\n",
        "    - These are whole numbers that can be positive, negative, or zero. They do not have decimal points.\n",
        "    - Examples: -3, -2, -1, 0, 1, 2, 3, ...\n",
        "- **Floats:**\n",
        "    - Also known as floating-point numbers, these are numbers that have a decimal point.\n",
        "    - They can represent real numbers (both rational and irrational numbers).\n",
        "    - Examples: -3.5, 0.0, 2.71, 3.14, ...\n",
        "\n",
        "#### **The Difference Between the Two**\n",
        "1. **Representation:** Integers are whole numbers without a decimal point, while floats have a decimal point.\n",
        "2. **Memory:** Floats typically require more memory than integers due to the precision they carry.\n",
        "3. **Operations:** Some operations might yield different results. For instance, dividing two integers might truncate the result, whereas dividing two floats will retain the decimal portion.\n",
        "\n",
        "#### **Practice: Create Variables of Integer and Float Types and Perform Basic Arithmetic Operations**\n",
        "1. **Creating Variables:**\n",
        "```python\n",
        "int_variable = 5\n",
        "float_variable = 5.5\n",
        "```\n",
        "2. **Arithmetic Operations:**\n",
        "    - **Addition:** `int_variable + 3` will result in `8`, but `float_variable + 3` will result in `8.5`.\n",
        "    - **Division:** `int_variable / 2` might differ in some languages in its result compared to `float_variable / 2`. In Python 3, both will return a float, but in some languages, integer division truncates the result.\n",
        "    - **Multiplication:** `int_variable * 2` will result in `10`, and `float_variable * 2` will result in `11.0`.\n",
        "\n",
        "3. **Experimentation:** Create your own integer and float variables and experiment with various arithmetic operations to observe the outcomes.\n",
        "\n",
        "---\n"
      ]
    },
    {
      "cell_type": "code",
      "execution_count": null,
      "metadata": {
        "colab": {
          "base_uri": "https://localhost:8080/"
        },
        "id": "LCcqz0c-EMxq",
        "outputId": "1790095a-280f-4c88-ba23-3edb3858c11c"
      },
      "outputs": [
        {
          "name": "stdout",
          "output_type": "stream",
          "text": [
            "13.1415926\n"
          ]
        }
      ],
      "source": [
        "#Experiment with integers and floats in this cell\n",
        "\n",
        "int_variable = 10\n",
        "hihi = 3.1415926\n",
        "print(int_variable + hihi)\n"
      ]
    },
    {
      "cell_type": "markdown",
      "metadata": {
        "id": "bBnOPo9OEAEW"
      },
      "source": [
        "**1. Coffee Shop Calculator**\n",
        "   \n",
        "**Objective:** Calculate the total cost of items ordered at a coffee shop.\n",
        "\n",
        "- **Instructions:**\n",
        "   - Imagine you're visiting your favorite coffee shop.\n",
        "   - Use the `input()` function to ask the user to specify the number of espressos, lattes, and muffins they'd like to \"buy\". Convert these to integer values.\n",
        "   - Similarly, take user input for the prices of each item and convert these to float values.\n",
        "   - Write a program to calculate and display the total cost.\n",
        "\n",
        "---"
      ]
    },
    {
      "cell_type": "code",
      "execution_count": 18,
      "metadata": {
        "colab": {
          "base_uri": "https://localhost:8080/"
        },
        "id": "ymdlxypHEeHA",
        "outputId": "5b45c3dd-665e-47f9-c270-3e9e1a9852ae"
      },
      "outputs": [
        {
          "output_type": "stream",
          "name": "stdout",
          "text": [
            "How many espressos? ($20 each)\n",
            "5\n",
            "How many lattes? ($15 each)\n",
            "4\n",
            "How many muffins? ($10 each)\n",
            "3\n",
            "The total price is 190\n"
          ]
        }
      ],
      "source": [
        "#Your code for exercise 1 in here\n",
        "\n",
        "import time;\n",
        "print(\"How many espressos? ($20 each)\")\n",
        "espressos = int(input())\n",
        "\n",
        "print(\"How many lattes? ($15 each)\")\n",
        "lattes = int(input())\n",
        "print(\"How many muffins? ($10 each)\")\n",
        "muffins = int(input())\n",
        "\n",
        "\n",
        "\n",
        "print (\"The total price is\", espressos*20 + lattes * 15 + muffins * 10)\n",
        "\n",
        "\n",
        "\n"
      ]
    },
    {
      "cell_type": "markdown",
      "metadata": {
        "id": "5cn16bvxEiz5"
      },
      "source": [
        "**2. Rocket Launch Countdown**\n",
        "   \n",
        "**Objective:** Simulate a rocket launch countdown.\n",
        "\n",
        "- **Instructions:**\n",
        "   - Use the `input()` function to ask the user for a starting countdown number and convert it to an integer.\n",
        "   - Write a loop that subtracts 1 from the variable and prints the current countdown number each iteration.\n",
        "   - Add a delay (using time.sleep in Python) of 0.5 seconds between each countdown number.\n",
        "\n",
        "---\n"
      ]
    },
    {
      "cell_type": "code",
      "execution_count": 17,
      "metadata": {
        "id": "ys1WJFJWEncP",
        "colab": {
          "base_uri": "https://localhost:8080/"
        },
        "outputId": "adea784e-7098-4ffc-cc7d-bbb68992e7cf"
      },
      "outputs": [
        {
          "output_type": "stream",
          "name": "stdout",
          "text": [
            "4\n",
            "3\n",
            "2\n",
            "1\n",
            "0\n"
          ]
        }
      ],
      "source": [
        "#Your code for exercise 2 in here\n",
        "import time;\n",
        "l = input()\n",
        "i = int(l)\n",
        "while i > 0:\n",
        "  i = i-1\n",
        "  print(i)\n",
        "  time.sleep(1)\n",
        "\n",
        "\n"
      ]
    },
    {
      "cell_type": "markdown",
      "metadata": {
        "id": "_4CLsHIKEsGa"
      },
      "source": [
        "**3. Your Weight on Other Planets**\n",
        "   \n",
        "**Objective:** Find out how much you'd weigh on different planets based on their gravity.\n",
        "\n",
        "- **Instructions:**\n",
        "   - Use the `input()` function to ask the user for their weight on Earth and convert this to a float.\n",
        "   - Create float variables for the gravity factor of different planets (e.g., Mars is about 0.38 of Earth's gravity).\n",
        "   - Calculate and display how much they'd weigh on each of these planets.\n",
        "\n",
        "---"
      ]
    },
    {
      "cell_type": "code",
      "execution_count": 22,
      "metadata": {
        "id": "2CGVY3iiEvR9",
        "colab": {
          "base_uri": "https://localhost:8080/"
        },
        "outputId": "8113f731-c9a3-4169-e1c9-06eb3b3eaf66"
      },
      "outputs": [
        {
          "output_type": "stream",
          "name": "stdout",
          "text": [
            "Input your weight in kg \n",
            "4\n",
            "your weight on mars is 1.52\n",
            "your weight on moon is 2.4\n",
            "\n",
            "you are skinny\n"
          ]
        }
      ],
      "source": [
        "#Exercise 3\n",
        "weight = float(input(\"Input your weight in kg \\n\"))\n",
        "print (\"your weight on mars is\", weight * 0.38);\n",
        "print (\"your weight on moon is\", weight * 0.6);\n",
        "if weight > 40:\n",
        "  print (\"you are fat!!\");\n",
        "else:\n",
        "  print (\"\\nyou are skinny\");\n",
        "\n",
        "\n",
        "\n",
        "\n"
      ]
    },
    {
      "cell_type": "markdown",
      "metadata": {
        "id": "iSGrrgiNExxp"
      },
      "source": [
        "**4. Pizza Party Calculator**\n",
        "   \n",
        "**Objective:** Calculate the cost per slice of pizza.\n",
        "\n",
        "- **Instructions:**\n",
        "   - Use the `input()` function to ask the user how many pizzas they bought and the total cost. Convert these values appropriately (integer for number of pizzas, float for cost).\n",
        "   - Ask the user to specify how many slices each pizza has and convert this to an integer.\n",
        "   - Calculate and display the cost per slice.\n",
        "\n",
        "---"
      ]
    },
    {
      "cell_type": "code",
      "execution_count": 47,
      "metadata": {
        "id": "QFiXisVwE0ZR",
        "colab": {
          "base_uri": "https://localhost:8080/"
        },
        "outputId": "7edbd0d2-57be-4064-a31b-fcba26256eac"
      },
      "outputs": [
        {
          "output_type": "stream",
          "name": "stdout",
          "text": [
            "Guess an integer number between 1 and 100\n",
            "50\n",
            "wrong, keep guessing\n",
            "The answer is greater\n",
            "70\n",
            "wrong, keep guessing\n",
            "The answer is smaller\n",
            "60\n",
            "wrong, keep guessing\n",
            "The answer is smaller\n",
            "55\n",
            "wrong, keep guessing\n",
            "The answer is smaller\n",
            "53\n",
            "correct\n"
          ]
        }
      ],
      "source": [
        "#Exercise 4\n",
        "print (\"One pizza for $10, one slice of pizza for $2 \\n\");\n",
        "pizza = int (input (\"numbers of pizzas \\n\"))\n",
        "slice_pizza = int (input (\"numbers of one slice of pizza \\n\"));\n",
        "print (pizza , \" whole pizzas for\", pizza *10, \"dollars and\", slice_pizza, \"slices of pizza for\", slice_pizza * 2, \"dollars\");\n",
        "\n"
      ]
    },
    {
      "cell_type": "markdown",
      "metadata": {
        "id": "bgTECsKHE3CF"
      },
      "source": [
        "\n",
        "**5. Travel Budget Calculator**\n",
        "   \n",
        "**Objective:** Calculate the total budget required for a trip.\n",
        "\n",
        "- **Instructions:**\n",
        "   - Imagine you're planning a trip to your dream destination.\n",
        "   - Use the `input()` function to ask the user for the number of days they plan to stay and convert this to an integer.\n",
        "   - Ask the user to specify the estimated daily expenses for food, accommodation, and sightseeing. Convert these to float values.\n",
        "   - Write a program to calculate and display the total estimated cost for the trip.\n",
        "\n",
        "---"
      ]
    },
    {
      "cell_type": "code",
      "execution_count": 48,
      "metadata": {
        "id": "sT4Q-aYuE4jM",
        "colab": {
          "base_uri": "https://localhost:8080/"
        },
        "outputId": "adda0f27-2689-4c64-866b-b1c82bc4e319"
      },
      "outputs": [
        {
          "output_type": "stream",
          "name": "stdout",
          "text": [
            "money for food \n",
            "10\n",
            "money for accomodation \n",
            "20\n",
            "money for sightseeing \n",
            "50\n",
            "how many days? \n",
            "4\n",
            "The total price is : 320.0\n"
          ]
        }
      ],
      "source": [
        "#Exercise 5\n",
        "import random\n",
        "\n",
        "food = float (input (\"money for food \\n\"))\n",
        "accomodation = float (input(\"money for accomodation \\n\"))\n",
        "sightseeing = float (input (\"money for sightseeing \\n\"))\n",
        "day = int (input(\"how many days? \\n\"))\n",
        "print (\"The total price is :\", (food+accomodation+sightseeing) * day);\n"
      ]
    }
  ],
  "metadata": {
    "colab": {
      "provenance": []
    },
    "kernelspec": {
      "display_name": "Python 3",
      "name": "python3"
    },
    "language_info": {
      "name": "python"
    }
  },
  "nbformat": 4,
  "nbformat_minor": 0
}