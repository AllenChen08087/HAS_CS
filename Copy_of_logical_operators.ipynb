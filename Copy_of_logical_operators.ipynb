{
  "nbformat": 4,
  "nbformat_minor": 0,
  "metadata": {
    "colab": {
      "provenance": []
    },
    "kernelspec": {
      "name": "python3",
      "display_name": "Python 3"
    },
    "language_info": {
      "name": "python"
    }
  },
  "cells": [
    {
      "cell_type": "markdown",
      "source": [
        "\n",
        "### **Logical Operators**\n",
        "\n",
        "Logical operators are used to combine conditional statements.\n",
        "\n",
        "**1. `and` Operator:**\n",
        "- Returns `True` if both statements are true.\n",
        "  \n",
        "  **Example:**\n",
        "  ```python\n",
        "  age = 25\n",
        "  if age > 18 and age < 30:\n",
        "      print(\"You are a young adult.\")\n",
        "  ```\n",
        "\n",
        "**2. `or` Operator:**\n",
        "- Returns `True` if at least one of the statements is true.\n",
        "  \n",
        "  **Example:**\n",
        "  ```python\n",
        "  day = \"Sunday\"\n",
        "  if day == \"Saturday\" or day == \"Sunday\":\n",
        "      print(\"It's the weekend!\")\n",
        "  ```\n",
        "\n",
        "**3. `not` Operator:**\n",
        "- Used to reverse the result; returns `False` if the result is true and vice versa.\n",
        "  \n",
        "  **Example:**\n",
        "  ```python\n",
        "  is_raining = False\n",
        "  if not is_raining:\n",
        "      print(\"It's a sunny day!\")\n",
        "  ```\n",
        "\n",
        "---\n",
        "\n",
        "### **Nested Conditional Statements**\n",
        "\n",
        "Sometimes, you may want to evaluate a condition inside another condition. This is referred to as nesting.\n",
        "\n",
        "**Example:**\n",
        "```python\n",
        "age = 25\n",
        "gender = \"Female\"\n",
        "if age < 30:\n",
        "    if gender == \"Female\":\n",
        "        print(\"Young female.\")\n",
        "    else:\n",
        "        print(\"Young male.\")\n",
        "else:\n",
        "    if gender == \"Female\":\n",
        "        print(\"Mature female.\")\n",
        "    else:\n",
        "        print(\"Mature male.\")\n",
        "```\n",
        "\n",
        "In the example above, the outer `if` checks the age, and the inner `if` checks the gender, leading to more precise classifications.\n",
        "\n"
      ],
      "metadata": {
        "id": "_J_0H623DMoG"
      }
    },
    {
      "cell_type": "code",
      "source": [
        "#Test the examples above here"
      ],
      "metadata": {
        "id": "1tzurxbLDYuS"
      },
      "execution_count": null,
      "outputs": []
    },
    {
      "cell_type": "markdown",
      "source": [
        "### **Practice Exercises:**\n",
        "\n",
        "1. **Temperature Alert:**\n",
        "   - Ask the user for the current temperature and if it's raining (yes/no).\n",
        "   - If it's above 30°C and not raining, suggest wearing sunscreen. If it's below 30°C and raining, suggest taking an umbrella.\n",
        "\n",
        "\n",
        "\n"
      ],
      "metadata": {
        "id": "_2pb9LXWDcXE"
      }
    },
    {
      "cell_type": "code",
      "source": [
        "#Ex1\n",
        "tem = float(input(\"Enter current temperature in degree c: \"))\n",
        "rain = input(\"is it raining(enter yes/no) \")\n",
        "if tem>30 and (rain == \"no\" or rain == \"No\"):\n",
        "  print(\"you are suggested to wear sunscreen\")\n",
        "if tem>30 and (rain == \"yes\" or rain == \"Yes\"):\n",
        "  print(\"huh?\")\n",
        "if tem<31 and (rain == \"yes\" or rain == \"Yes\"):\n",
        "  print(\"you are suggested to take an unmbrella\")"
      ],
      "metadata": {
        "id": "AyCFWr2cDiuz",
        "colab": {
          "base_uri": "https://localhost:8080/"
        },
        "outputId": "b94b3e49-6e06-4a48-a28b-6a0a5a9b7e55"
      },
      "execution_count": 8,
      "outputs": [
        {
          "output_type": "stream",
          "name": "stdout",
          "text": [
            "Enter current temperature in degree c: 29\n",
            "is it raining(enter yes/no) Yes\n",
            "you are suggested to take an unmbrella\n"
          ]
        }
      ]
    },
    {
      "cell_type": "markdown",
      "source": [
        "2. **Movie Night:**\n",
        "   - Ask the user if they like action movies and if they like romantic movies.\n",
        "   - Recommend a movie based on their preferences:\n",
        "     - Action and romance: \"Mr. & Mrs. Smith\",\n",
        "     - Only action: \"Die Hard\",\n",
        "     - Only romance: \"Pride and Prejudice\",\n",
        "     - Neither: \"Try watching a documentary!\"\n",
        "\n"
      ],
      "metadata": {
        "id": "hne5hxgMDj0i"
      }
    },
    {
      "cell_type": "code",
      "source": [
        "#Ex2\n",
        "action = input(\"Do you like action movies? (yes/no) \")\n",
        "romantic = input(\"Do you like aciton movies? (yes/no) \")\n",
        "if (action == \"yes\" or action == \"Yes\") and (romantic == \"yes\" or romantic == \"Yes\"):\n",
        "  print(\"Mr. & Mrs. Smith is recommended\")\n",
        "if (action == \"yes\" or action == \"Yes\") and (romantic == \"no\" or romantic == \"No\"):\n",
        "  print(\"Die Hard is recommended\")\n",
        "if (action == \"no\" or action == \"No\") and (romantic == \"yes\" or romantic == \"Yes\"):\n",
        "  print(\"Pride and Prejudice\")\n",
        "if (action == \"no\" or action == \"No\") and (romantic == \"no\" or romantic == \"No\"):\n",
        "  print(\"Try watching a documentary\")\n"
      ],
      "metadata": {
        "id": "m13PVPajDlwd",
        "colab": {
          "base_uri": "https://localhost:8080/"
        },
        "outputId": "d63dc888-8839-4154-8d5c-254701e2020e"
      },
      "execution_count": 11,
      "outputs": [
        {
          "output_type": "stream",
          "name": "stdout",
          "text": [
            "Do you like action movies? (yes/no) No\n",
            "Do you like aciton movies? (yes/no) no\n",
            "Try watching a documentary\n"
          ]
        }
      ]
    },
    {
      "cell_type": "markdown",
      "source": [
        "3. **Eligibility for a Credit Card:**\n",
        "   - Ask the user for their age and monthly salary.\n",
        "   - If they are over 18 and earn more than $1,000 per month, inform them they are eligible for a credit card.\n"
      ],
      "metadata": {
        "id": "2DUNWDlsDmzl"
      }
    },
    {
      "cell_type": "code",
      "source": [
        "#Ex3\n",
        "age = float(input(\"enter your age \"))\n",
        "salary = float(input(\"enter your monthly \"))\n",
        "if (age>=18) and (salary>=1000):\n",
        "  print(\"you are eligible for a credit card\")\n",
        "else:\n",
        "  print(\"you are not eligible for a credit card\")\n"
      ],
      "metadata": {
        "id": "KiuF2ByZDoZG",
        "colab": {
          "base_uri": "https://localhost:8080/"
        },
        "outputId": "1b824947-e463-4ff2-fd18-913da1de3b06"
      },
      "execution_count": 14,
      "outputs": [
        {
          "output_type": "stream",
          "name": "stdout",
          "text": [
            "enter your age 18\n",
            "enter your monthly 9999\n",
            "you are eligible for a credit card\n"
          ]
        }
      ]
    },
    {
      "cell_type": "markdown",
      "source": [
        "\n",
        "4. **Nested Age Bracket Classifier:**\n",
        "   - Ask the user for their age and gender.\n",
        "   - Classify them into 'Young/Mature Male/Female' using nested conditional statements.\n"
      ],
      "metadata": {
        "id": "0p0RmJMKDpdG"
      }
    },
    {
      "cell_type": "code",
      "source": [
        "#Ex4\n",
        "age = float(input(\"enter your age: \"))\n",
        "gender = input(\"enter you gender (male/female): \")\n",
        "if (age < 18):\n",
        "  print(\"young \" + gender)\n",
        "if (age >= 18):\n",
        "  print(\"mature \" + gender)"
      ],
      "metadata": {
        "id": "QSi5-aToDrnK",
        "colab": {
          "base_uri": "https://localhost:8080/"
        },
        "outputId": "28eef232-cc8e-4ca9-9a59-be879a363dce"
      },
      "execution_count": 17,
      "outputs": [
        {
          "output_type": "stream",
          "name": "stdout",
          "text": [
            "enter your age: 199\n",
            "enter you gender (male/female): female\n",
            "mature female\n"
          ]
        }
      ]
    },
    {
      "cell_type": "markdown",
      "source": [
        "\n",
        "5. **Weekend Activity Planner:**\n",
        "   - Ask the user if it's a weekend and if the weather is good.\n",
        "   - Provide activity suggestions based on their answers:\n",
        "     - Weekend and good weather: \"Go for a picnic!\",\n",
        "     - Weekend and bad weather: \"Maybe watch a movie at home?\",\n",
        "     - Weekday and good weather: \"Don't forget your sunglasses on your way to work!\",\n",
        "     - Weekday and bad weather: \"Take an umbrella today.\""
      ],
      "metadata": {
        "id": "tyG7h84BDsrX"
      }
    },
    {
      "cell_type": "code",
      "source": [
        "#Ex5\n",
        "weather = input(\"good weather? (yes/no) \")\n",
        "weekend = input(\"weekend? (yes/no) \")\n",
        "\n",
        "if (weather == \"yes\" or weather == \"Yes\") and (weekend == \"yes\" or weekend == \"Yes\"):\n",
        "  print(\"Go for a picnic\")\n",
        "if (weather == \"yes\" or weather == \"Yes\") and (weekend == \"no\" or weekend == \"No\"):\n",
        "  print(\"Don't forget your sunglasses on your way to work!\")\n",
        "if (weather == \"no\" or weather == \"No\") and (weekend == \"Yes\" or weekend == \"yes\"):\n",
        "  print(\"Maybe watch a movie at home?\")\n",
        "if (weather == \"no\" or weather == \"No\") and (weekend == \"no\" or weekend == \"No\"):\n",
        "  print(\"Take an umbrella today\")"
      ],
      "metadata": {
        "id": "7q-ze3tCDtgQ",
        "colab": {
          "base_uri": "https://localhost:8080/"
        },
        "outputId": "4cd4b453-c69f-45b2-d003-493453f69e99"
      },
      "execution_count": 20,
      "outputs": [
        {
          "output_type": "stream",
          "name": "stdout",
          "text": [
            "good weather? (yes/no) Yes\n",
            "weekend? (yes/no) No\n",
            "Don't forget your sunglasses on your way to work!\n"
          ]
        }
      ]
    }
  ]
}