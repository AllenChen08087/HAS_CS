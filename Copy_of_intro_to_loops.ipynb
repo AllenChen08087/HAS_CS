{
  "nbformat": 4,
  "nbformat_minor": 0,
  "metadata": {
    "colab": {
      "provenance": []
    },
    "kernelspec": {
      "name": "python3",
      "display_name": "Python 3"
    },
    "language_info": {
      "name": "python"
    }
  },
  "cells": [
    {
      "cell_type": "markdown",
      "source": [
        "\n",
        "### **Introduction to Loops**\n",
        "\n",
        "In programming, loops offer a way to perform a set of instructions repeatedly. They are fundamental for tasks that require the same action to be taken on a series of items, or for actions to be repeated until a certain condition is met.\n",
        "\n",
        "---\n",
        "\n",
        "### **Understanding the `while` Loop and its Applications**\n",
        "\n",
        "The `while` loop executes a block of code as long as a specified condition remains `True`.\n",
        "\n",
        "**Basic Syntax:**\n",
        "```python\n",
        "while condition:\n",
        "    # body of the loop\n",
        "```\n",
        "\n",
        "**Example:**\n",
        "```python\n",
        "count = 0\n",
        "while count < 5:\n",
        "    print(count)\n",
        "    count += 1\n",
        "```\n",
        "\n",
        "In the above example, the loop will print numbers from 0 to 4. The loop continues as long as `count` is less than 5.\n",
        "\n",
        "**Applications:**\n",
        "1. **Repeating an action** until a user decides to quit.\n",
        "2. **Waiting for an external condition** to change (e.g., waiting for user input).\n",
        "3. **Polling:** Checking repeatedly if a resource is available or a task is completed.\n",
        "\n",
        "---\n",
        "\n",
        "### **Creating Counters and Accumulators**\n",
        "\n",
        "**1. Counters:**\n",
        "A counter is a variable that is incremented or decremented with each iteration of a loop.\n",
        "\n",
        "**Example:**\n",
        "```python\n",
        "# Counting how many times a loop runs\n",
        "count = 0\n",
        "while count < 10:\n",
        "    print(\"Loop iteration:\", count)\n",
        "    count += 1\n",
        "```\n",
        "\n",
        "**2. Accumulators:**\n",
        "An accumulator is a variable that collects or accumulates a value over time within a loop.\n",
        "\n",
        "**Example:**\n",
        "```python\n",
        "# Summing numbers from 1 to 5\n",
        "total = 0\n",
        "number = 1\n",
        "while number <= 5:\n",
        "    total += number\n",
        "    number += 1\n",
        "print(\"Total sum:\", total)\n",
        "```\n",
        "\n",
        "In the above example, `total` is an accumulator that collects the sum of numbers from 1 to 5.\n",
        "\n",
        "\n"
      ],
      "metadata": {
        "id": "a2Db_gg2H9l2"
      }
    },
    {
      "cell_type": "code",
      "source": [
        "#Play around with the examples in this cell"
      ],
      "metadata": {
        "id": "ixvEg1OJI0vm"
      },
      "execution_count": null,
      "outputs": []
    },
    {
      "cell_type": "markdown",
      "source": [
        "---\n",
        "\n",
        "### **Practice Exercises:**\n",
        "\n",
        "1. **Positive Number Collector:** Ask the user to keep entering numbers. Stop when they enter a negative number and display the sum of all positive numbers entered.\n"
      ],
      "metadata": {
        "id": "icvXf-Q8I4tF"
      }
    },
    {
      "cell_type": "code",
      "source": [
        "#Ex1\n",
        "i = 0;\n",
        "j = 0;\n",
        "while j >= 0:\n",
        "  i = i + j;5\n",
        "  j = int(input(\"input a number, enter a negative number to stop \"))\n",
        "\n",
        "if j<0:\n",
        "  print(i)"
      ],
      "metadata": {
        "id": "HWqs6QFuI6Pd",
        "colab": {
          "base_uri": "https://localhost:8080/"
        },
        "outputId": "301cd99d-40ce-47b9-b662-7f6623f29ac7"
      },
      "execution_count": null,
      "outputs": [
        {
          "output_type": "stream",
          "name": "stdout",
          "text": [
            "input a number, enter a negative number to stop 10\n",
            "input a number, enter a negative number to stop 5\n",
            "input a number, enter a negative number to stop -5\n",
            "15\n"
          ]
        }
      ]
    },
    {
      "cell_type": "markdown",
      "source": [
        "2. **Guessing Game:** Think of a number between 1 and 10. Allow the user to guess until they get the right number.\n"
      ],
      "metadata": {
        "id": "-_u-1EvmI8Dj"
      }
    },
    {
      "cell_type": "code",
      "source": [
        "#Ex2\n",
        "import random\n",
        "print (\"Guess an integer number between 1 and 10\");\n",
        "ans=(random.randrange(1, 10));\n",
        "number = int (input())\n",
        "while number != ans:\n",
        "\n",
        "  print (\"wrong, keep guessing\")\n",
        "  number = int (input())\n",
        "\n",
        "else:\n",
        "  print(\"correct\")\n",
        "\n"
      ],
      "metadata": {
        "id": "pmd2ui8UI9nI",
        "colab": {
          "base_uri": "https://localhost:8080/"
        },
        "outputId": "3141da93-4b26-4457-97c9-f05ecfb921a3"
      },
      "execution_count": null,
      "outputs": [
        {
          "output_type": "stream",
          "name": "stdout",
          "text": [
            "Guess an integer number between 1 and 10\n",
            "5\n",
            "wrong, keep guessing\n",
            "4\n",
            "wrong, keep guessing\n",
            "3\n",
            "wrong, keep guessing\n",
            "2\n",
            "wrong, keep guessing\n",
            "1\n",
            "wrong, keep guessing\n",
            "6\n",
            "correct\n"
          ]
        }
      ]
    },
    {
      "cell_type": "markdown",
      "source": [
        "3. **Exponential Growth:** Given a number, keep multiplying it by 2 until it exceeds 1000. Count how many multiplications were needed.\n"
      ],
      "metadata": {
        "id": "sMHpPBRQI_Kh"
      }
    },
    {
      "cell_type": "code",
      "source": [
        "#Ex3\n",
        "number = int(input(\"input a number \"))\n",
        "a = 0;\n",
        "while number <= 1000:\n",
        "  number = number * 2\n",
        "  print(number)\n",
        "  a=a+1\n",
        "else:\n",
        "  print(a, \"times of multiplications were needed\")\n",
        "\n"
      ],
      "metadata": {
        "id": "5ueHSVhEJA5S",
        "colab": {
          "base_uri": "https://localhost:8080/"
        },
        "outputId": "7bbd24a5-63f3-4f70-d5ad-0edb43ab33fd"
      },
      "execution_count": null,
      "outputs": [
        {
          "output_type": "stream",
          "name": "stdout",
          "text": [
            "input a number 10\n",
            "20\n",
            "40\n",
            "80\n",
            "160\n",
            "320\n",
            "640\n",
            "1280\n",
            "7 times of multiplications were needed\n"
          ]
        }
      ]
    },
    {
      "cell_type": "markdown",
      "source": [
        "4. **Password Retry:** Allow a user 3 attempts to enter a correct password.\n"
      ],
      "metadata": {
        "id": "R37qmrpgJCZY"
      }
    },
    {
      "cell_type": "code",
      "source": [
        "#Ex4\n",
        "password = \"Allen is handsome\"\n",
        "i = 0;\n",
        "passw = input(\"plz enter the password \")\n",
        "while i < 2:\n",
        "  if passw != password:\n",
        "    i = i+1;\n",
        "    print(\"wrong password \")\n",
        "    passw = input(\"plz enter the password again \")\n",
        "\n",
        "  elif passw == password:\n",
        "    print(\"correct!\")\n",
        "    i = 2\n",
        "if i == 2:\n",
        "  print(\"the correct password is \", password)\n"
      ],
      "metadata": {
        "id": "-mVz_khOJDt3",
        "colab": {
          "base_uri": "https://localhost:8080/"
        },
        "outputId": "68b8d7fe-f53a-427a-b7fa-d1f679ee273a"
      },
      "execution_count": null,
      "outputs": [
        {
          "output_type": "stream",
          "name": "stdout",
          "text": [
            "plz enter the password sj\n",
            "wrong password \n",
            "plz enter the password again si\n",
            "wrong password \n",
            "plz enter the password again sk\n",
            "the correct password is  Allen is handsome\n"
          ]
        }
      ]
    },
    {
      "cell_type": "markdown",
      "source": [
        "5. **Interest Calculator:** If you invest $100 at a 5% annual interest rate, how many years will it take for the money to double using compound interest?\n"
      ],
      "metadata": {
        "id": "xE9VCCIPJEtP"
      }
    },
    {
      "cell_type": "code",
      "source": [
        "#Ex5\n",
        "invest = int(input(\"enter principle \"))\n",
        "r = float(input(\"enter annual interest rate \"))\n",
        "a = invest * 2\n",
        "b = 0\n",
        "while invest<a :\n",
        "  invest = invest * (1 + r)\n",
        "  b = b+1\n",
        "print(\"it take \", b, \" years\")\n",
        "\n"
      ],
      "metadata": {
        "id": "_muBoRqzJGB3",
        "colab": {
          "base_uri": "https://localhost:8080/"
        },
        "outputId": "6f50fc17-d6ed-443f-8ad0-cc4cbe4198f6"
      },
      "execution_count": null,
      "outputs": [
        {
          "output_type": "stream",
          "name": "stdout",
          "text": [
            "enter principle 100\n",
            "enter annual interest rate 0.05\n",
            "it take  15  years\n"
          ]
        }
      ]
    },
    {
      "cell_type": "markdown",
      "source": [
        "6. **Number of Divisors:** For a given number, find out how many divisors it has.\n"
      ],
      "metadata": {
        "id": "UGn7LFPyJHUi"
      }
    },
    {
      "cell_type": "code",
      "source": [
        "#Ex6\n",
        "num = int(input(\"enter a number \"))\n",
        "a = 1;\n",
        "div = 0;\n",
        "while a <= num:\n",
        "  if num % a == 0:\n",
        "    div = div + 1;\n",
        "    a = a + 1;\n",
        "  elif num % a !=0:\n",
        "    a = a +1\n",
        "print(\"the number has \" ,div, \" divisors\")\n"
      ],
      "metadata": {
        "id": "50u_gFOuJJBB",
        "colab": {
          "base_uri": "https://localhost:8080/"
        },
        "outputId": "3e5e7074-1851-4749-fef9-fed97177b4eb"
      },
      "execution_count": null,
      "outputs": [
        {
          "output_type": "stream",
          "name": "stdout",
          "text": [
            "enter a number 100\n",
            "the number has  9  divisors\n"
          ]
        }
      ]
    },
    {
      "cell_type": "markdown",
      "source": [
        "7. **User Input Collector:** Keep asking the user for input until they type \"exit\" or \"quit\".\n"
      ],
      "metadata": {
        "id": "LAoVS7NyJLDl"
      }
    },
    {
      "cell_type": "code",
      "source": [
        "#Ex7\n",
        "enter = input(\"enter anything, if you want to exit, enter {exit} or {quit} \")\n",
        "while (enter != \"exit\") and (enter != \"quit\"):\n",
        "  enter = input(\"enter anything, if you want to exit, enter {exit} or {quit} \")\n",
        "  if (enter == \"exit\") or (enter == \"quit\"):\n",
        "      break;"
      ],
      "metadata": {
        "id": "51EYMHtzJMVE",
        "colab": {
          "base_uri": "https://localhost:8080/"
        },
        "outputId": "1f2626a9-79fb-4071-b2eb-2824fe484e57"
      },
      "execution_count": null,
      "outputs": [
        {
          "name": "stdout",
          "output_type": "stream",
          "text": [
            "enter anything, if you want to exit, enter {exit} or {quit} 1\n",
            "enter anything, if you want to exit, enter {exit} or {quit} exit\n"
          ]
        }
      ]
    },
    {
      "cell_type": "markdown",
      "source": [
        "8. **Factorial Calculator:** Calculate the factorial of a number using a loop.\n"
      ],
      "metadata": {
        "id": "-Bmx7J87JOFD"
      }
    },
    {
      "cell_type": "code",
      "source": [
        "#Ex8\n",
        "num = int(input(\"enter the number \"))\n",
        "a = 1;\n",
        "fac = 1;\n",
        "while a <= num:\n",
        "  fac = fac * a;\n",
        "  a = a +1;\n",
        "  print (fac)\n",
        "\n",
        "print(\"the factorical is \", fac)\n"
      ],
      "metadata": {
        "id": "i_Ai-9CpJPf3",
        "colab": {
          "base_uri": "https://localhost:8080/"
        },
        "outputId": "66f51d16-5510-4abe-c6f8-8958deb017ab"
      },
      "execution_count": null,
      "outputs": [
        {
          "output_type": "stream",
          "name": "stdout",
          "text": [
            "enter the number 5\n",
            "1\n",
            "2\n",
            "6\n",
            "24\n",
            "120\n",
            "the factorical is  120\n"
          ]
        }
      ]
    },
    {
      "cell_type": "markdown",
      "source": [
        "9. **Fibonacci Sequence:** Generate the first N numbers of the Fibonacci sequence.\n"
      ],
      "metadata": {
        "id": "DC6RN9NGJQpX"
      }
    },
    {
      "cell_type": "code",
      "source": [
        "#Ex9\n",
        "a = 1\n",
        "b = 1\n",
        "c = 0\n",
        "d = int(input(\"how many times: \"))\n",
        "n = 1;\n",
        "while n <=d:\n",
        "  if c == 0 and n <=d:\n",
        "    a = a + b\n",
        "    print (a)\n",
        "    c = 1;\n",
        "    n += 1;\n",
        "  if c == 1 and n <=d:\n",
        "    b = a +b\n",
        "    print (b)\n",
        "    c=0;\n",
        "    n +=1;\n",
        "\n",
        "\n"
      ],
      "metadata": {
        "id": "6RV7fRW9JR-b",
        "colab": {
          "base_uri": "https://localhost:8080/"
        },
        "outputId": "d4e67d39-064e-4fca-a751-47e0f2760d25"
      },
      "execution_count": 10,
      "outputs": [
        {
          "output_type": "stream",
          "name": "stdout",
          "text": [
            "how many times: 10\n",
            "2\n",
            "3\n",
            "5\n",
            "8\n",
            "13\n",
            "21\n",
            "34\n",
            "55\n",
            "89\n",
            "144\n"
          ]
        }
      ]
    },
    {
      "cell_type": "markdown",
      "source": [
        "10. **Decreasing Counter:** Start from 100 and count down by sevens. Stop if the number goes negative."
      ],
      "metadata": {
        "id": "dnX8zfHcJTXi"
      }
    },
    {
      "cell_type": "code",
      "source": [
        "#Ex10\n",
        "num = int(input(\"enter a positive number \"))\n",
        "while num > 0:\n",
        " print (num)\n",
        " num = num - 7;\n"
      ],
      "metadata": {
        "id": "2bkZxvmIJUHN",
        "colab": {
          "base_uri": "https://localhost:8080/"
        },
        "outputId": "2fbef408-ca5c-4387-f3ac-ac0b1a89dde3"
      },
      "execution_count": null,
      "outputs": [
        {
          "output_type": "stream",
          "name": "stdout",
          "text": [
            "enter a positive number 100\n",
            "100\n",
            "93\n",
            "86\n",
            "79\n",
            "72\n",
            "65\n",
            "58\n",
            "51\n",
            "44\n",
            "37\n",
            "30\n",
            "23\n",
            "16\n",
            "9\n",
            "2\n"
          ]
        }
      ]
    }
  ]
}