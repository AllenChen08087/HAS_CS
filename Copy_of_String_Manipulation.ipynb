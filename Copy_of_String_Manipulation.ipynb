{
  "nbformat": 4,
  "nbformat_minor": 0,
  "metadata": {
    "colab": {
      "provenance": []
    },
    "kernelspec": {
      "name": "python3",
      "display_name": "Python 3"
    },
    "language_info": {
      "name": "python"
    }
  },
  "cells": [
    {
      "cell_type": "markdown",
      "source": [
        "### **String Manipulation: Concatenation and Repetition**\n",
        "\n",
        "**String Concatenation:**\n",
        "- **Definition:** Combining two or more strings end-to-end.\n",
        "- **Operator:** The `+` operator is used for string concatenation.\n",
        "- **Example:**\n",
        "  ```python\n",
        "  first_name = \"John\"\n",
        "  last_name = \"Doe\"\n",
        "  full_name = first_name + \" \" + last_name  # Results in \"John Doe\"\n",
        "  ```\n",
        "\n",
        "**String Repetition:**\n",
        "- **Definition:** Repeating a string multiple times.\n",
        "- **Operator:** The `*` operator is used for string repetition.\n",
        "- **Example:**\n",
        "  ```python\n",
        "  word = \"echo\"\n",
        "  repeated_word = word * 3  # Results in \"echoechoecho\"\n",
        "  ```"
      ],
      "metadata": {
        "id": "XP9wGbNUyyQw"
      }
    },
    {
      "cell_type": "markdown",
      "source": [
        "**Practice:**\n",
        "1. **Fruit Salad:** Ask the user for their two favorite fruits. Concatenate them to form a new fruit name.\n",
        "\n"
      ],
      "metadata": {
        "id": "1-CbJq8Ey6zA"
      }
    },
    {
      "cell_type": "code",
      "source": [
        "#Ex1\n",
        "one = input(\"ur favorite fruit: \")\n",
        "two = input (\"fruit: \")\n",
        "print (one[0] + one[1]+ one[2] + one[3]+ two[len(two) -2] + two[len(two)-1])\n"
      ],
      "metadata": {
        "id": "aamagxLxy-Yj",
        "colab": {
          "base_uri": "https://localhost:8080/"
        },
        "outputId": "f7aa4b3b-2c63-4516-a7a4-fcc919c33d98"
      },
      "execution_count": null,
      "outputs": [
        {
          "output_type": "stream",
          "name": "stdout",
          "text": [
            "ur favorite fruit: guava\n",
            "fruit: banana\n",
            "guavna\n"
          ]
        }
      ]
    },
    {
      "cell_type": "markdown",
      "source": [
        "\n",
        "2. **Echo Chamber:** Ask the user for a word and a number. Repeat the word as many times as the number they've provided."
      ],
      "metadata": {
        "id": "sXAvgbTCzAs-"
      }
    },
    {
      "cell_type": "code",
      "source": [
        "#Ex2\n",
        "word = input(\"input word\")\n",
        "number = int(input(\"input number\"))\n",
        "print (word * number);\n"
      ],
      "metadata": {
        "id": "otlrxyquzCrb"
      },
      "execution_count": null,
      "outputs": []
    },
    {
      "cell_type": "markdown",
      "source": [
        "\n",
        "3. **Full Name Formatter:** Ask the user for their first name, middle name, and last name. Display their full name by concatenating these strings."
      ],
      "metadata": {
        "id": "LqkkcBxuzERf"
      }
    },
    {
      "cell_type": "code",
      "source": [
        "#Ex3\n",
        "first = input(\"input ur first name: \")\n",
        "mid = input(\"input ur middle name: \")\n",
        "last = input (\"input ur last name: \")\n",
        "print(first + \" \" + mid + \" \" + last);\n"
      ],
      "metadata": {
        "id": "pTtJKK9dzFRp",
        "colab": {
          "base_uri": "https://localhost:8080/"
        },
        "outputId": "5edcb3f9-531b-4254-f6f5-9d3732b024d9"
      },
      "execution_count": null,
      "outputs": [
        {
          "output_type": "stream",
          "name": "stdout",
          "text": [
            "input ur first name: Ryan\n",
            "input ur middle name: 87\n",
            "input ur last name: Chen\n",
            "Ryan 87 Chen\n"
          ]
        }
      ]
    },
    {
      "cell_type": "markdown",
      "source": [
        "### **Basic String Methods**\n",
        "\n",
        "**String Methods:**\n",
        "- **Definition:** Built-in functions in Python that can be called on a string to perform specific operations.\n",
        "- **Common Methods:**\n",
        "  - `upper()`: Converts the string to uppercase.\n",
        "  - `lower()`: Converts the string to lowercase.\n",
        "  - `title()`: Converts the string to title case (first letter of each word is capitalized).\n",
        "  - `len()`: Returns the length of the string.\n",
        "\n",
        "**String Slicing and Indexing:**\n",
        "- **Indexing:** Accessing a single character in a string using its position. Python string indices start at 0.\n",
        "  ```python\n",
        "  word = \"python\"\n",
        "  first_letter = word[0]  # Results in \"p\"\n",
        "  ```\n",
        "- **Slicing:** Accessing a range of characters in a string.\n",
        "  ```python\n",
        "  word = \"python\"\n",
        "  slice_word = word[1:4]  # Results in \"yth\"\n",
        "  ```\n",
        "\n",
        "\n"
      ],
      "metadata": {
        "id": "PbFzoj9EzHCn"
      }
    },
    {
      "cell_type": "markdown",
      "source": [
        "**Practice:**\n",
        "1. **Name Formatter:**\n",
        "   - Ask the user for their full name.\n",
        "   - Display their name in uppercase, lowercase, and title case.\n",
        "   - Show the length of their name."
      ],
      "metadata": {
        "id": "PqvCHbWkzbcK"
      }
    },
    {
      "cell_type": "code",
      "source": [
        "#Ex1\n",
        "name = input (\"input your full name: \")\n",
        "print (\"\\nuppercase: \", str.upper(name) + \"\\n\" );\n",
        "print (\"lowercase: \", str.lower(name) + \"\\n\" );\n",
        "print (\"title case: \", str.title(name) + \"\\n\" );\n",
        "print(len(name))"
      ],
      "metadata": {
        "id": "gyuRgCP-zZDV",
        "colab": {
          "base_uri": "https://localhost:8080/"
        },
        "outputId": "4c971a6f-3b4c-48bb-8f98-d81c1913b3bd"
      },
      "execution_count": null,
      "outputs": [
        {
          "output_type": "stream",
          "name": "stdout",
          "text": [
            "input your full name: RyanisToopro\n",
            "\n",
            "uppercase:  RYANISTOOPRO\n",
            "\n",
            "lowercase:  ryanistoopro\n",
            "\n",
            "title case:  Ryanistoopro\n",
            "\n",
            "12\n"
          ]
        }
      ]
    },
    {
      "cell_type": "markdown",
      "source": [
        "2. **Initials Extractor:**\n",
        "   - Ask the user for their first name and last name.\n",
        "   - Display their initials by extracting the first character from both names."
      ],
      "metadata": {
        "id": "m5XX1vRzzd-1"
      }
    },
    {
      "cell_type": "code",
      "source": [
        "#Ex2\n",
        "first =input(\"input your first name: \")\n",
        "last = input(\"input your last name: \")\n",
        "print(str.upper(first[0])+str.upper(last[0]));"
      ],
      "metadata": {
        "id": "0RegpgLazf1R",
        "colab": {
          "base_uri": "https://localhost:8080/"
        },
        "outputId": "953c1acc-8d4c-4a98-8411-33f6044952c5"
      },
      "execution_count": null,
      "outputs": [
        {
          "output_type": "stream",
          "name": "stdout",
          "text": [
            "input your first name: Allen\n",
            "input your last nameChen\n",
            "AC\n"
          ]
        }
      ]
    },
    {
      "cell_type": "markdown",
      "source": [
        "*CHALLENGE!!!\n",
        "This is a tough one that requires concepts we have not learnt in class yet!*\n",
        "3. **Secret Code:**\n",
        "   - Ask the user for a word.\n",
        "   - Display the word with every second letter in uppercase and the others in lowercase."
      ],
      "metadata": {
        "id": "moPvuFqJzhNz"
      }
    },
    {
      "cell_type": "code",
      "source": [
        "#Ex3\n",
        "word = input(\"input a word \")\n",
        "\n",
        "i = 0;\n",
        "while i < len(word):\n",
        "  if i == 1:\n",
        "    print(str.upper(word[i]), end = \"\")\n",
        "    i=i+1\n",
        "  else:\n",
        "    print(str.lower(word[i]),end = \"\")\n",
        "    i=i+1\n"
      ],
      "metadata": {
        "id": "Hl77BxQxziQL"
      },
      "execution_count": null,
      "outputs": []
    }
  ]
}